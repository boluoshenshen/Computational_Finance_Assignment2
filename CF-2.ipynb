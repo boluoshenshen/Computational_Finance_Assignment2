{
 "cells": [
  {
   "cell_type": "markdown",
   "metadata": {},
   "source": [
    "# Assignment 2: Monte Carlo (MC) Methods in Finance"
   ]
  },
  {
   "cell_type": "code",
   "execution_count": null,
   "metadata": {},
   "outputs": [],
   "source": [
    "import numpy as np\n",
    "import matplotlib.pyplot as plt\n",
    "from scipy.stats import norm\n",
    "import seaborn as sns\n",
    "import pandas as pd\n"
   ]
  },
  {
   "cell_type": "markdown",
   "metadata": {},
   "source": [
    "## Part I Option Valuation"
   ]
  },
  {
   "cell_type": "markdown",
   "metadata": {},
   "source": [
    "## Part II Estimation of Sensitivities in MC"
   ]
  },
  {
   "cell_type": "markdown",
   "metadata": {},
   "source": [
    "### Q1: Use bump-and-revalue method to estimate delta"
   ]
  },
  {
   "cell_type": "markdown",
   "metadata": {},
   "source": [
    "## Part III Variance Reduction"
   ]
  },
  {
   "cell_type": "markdown",
   "metadata": {},
   "source": [
    "### Q1: Compare the Asian call option result between the analytical expression and Monte-Carlo simulations"
   ]
  },
  {
   "cell_type": "code",
   "execution_count": null,
   "metadata": {},
   "outputs": [],
   "source": [
    "S0 = 100       # Initial stock price\n",
    "K = 100        # Strike price\n",
    "T = 1          # Time to maturity in years\n",
    "r = 0.05       # Risk-free interest rate\n",
    "sigma = 0.2    # Volatility\n",
    "N = 252        # Number of steps/times we observe the stock price\n",
    "\n",
    "def geometric_asian_call_price(S0, K, T, r, sigma, N):\n",
    "    # Adjust volatility and interest rates based on the characteristics of Asian options\n",
    "    sigma_hat = sigma * np.sqrt((2 * N + 1) / (6 * (N + 1)))\n",
    "    r_hat = (r - 0.5 * sigma**2 + sigma_hat**2) / 2\n",
    "\n",
    "    # Calculate d1 and d2\n",
    "    d1 = (np.log(S0 / K) + (r_hat + 0.5 * sigma_hat**2) * T) / (sigma_hat * np.sqrt(T))\n",
    "    d2 = d1 - sigma_hat * np.sqrt(T)\n",
    "\n",
    "    # Calculate Asian call option prices based on the BS model\n",
    "    geometric_asian_call_theoretical = S0 * np.exp((r_hat - r) * T) * norm.cdf(d1) - K * np.exp(-r * T) * norm.cdf(d2)\n",
    "    return geometric_asian_call_theoretical\n",
    "\n",
    "geometric_asian_call_theoretical = geometric_asian_call_price(S0, K, T, r, sigma, N)\n",
    "print(geometric_asian_call_theoretical)\n"
   ]
  },
  {
   "cell_type": "code",
   "execution_count": null,
   "metadata": {},
   "outputs": [],
   "source": [
    "# Use Monte-Carlo simulation to compute Asian call option\n",
    "\n",
    "S0 = 100       \n",
    "K = 100        \n",
    "T = 1          \n",
    "r = 0.05       \n",
    "sigma = 0.2    \n",
    "N = 2520       \n",
    "n_simulations = 100000  # Number of Monte Carlo simulations\n",
    "\n",
    "# Simulate Brownian motion path\n",
    "def simulate_gbm(S0, r, sigma, T, n_steps):\n",
    "    dt = T/n_steps  \n",
    "    dW = np.random.normal(scale=np.sqrt(dt), size=n_steps)\n",
    "    log_S = np.log(S0) + np.cumsum((r - 0.5 * sigma**2) * dt + sigma * dW)\n",
    "    S = np.exp(log_S)  \n",
    "    return S\n",
    "\n",
    "def asian_call_payoff(S_path, K, r, T):\n",
    "    geometric_mean = np.exp(np.mean(np.log(S_path)))  \n",
    "    payoff = np.maximum(geometric_mean - K, 0)        \n",
    "    discounted_payoff = np.exp(-r * T) * payoff     \n",
    "    return discounted_payoff\n",
    "\n"
   ]
  },
  {
   "cell_type": "code",
   "execution_count": null,
   "metadata": {},
   "outputs": [],
   "source": [
    "np.random.seed()  \n",
    "payoffs = np.zeros(n_simulations)\n",
    "\n",
    "for i in range(n_simulations):\n",
    "    S_path = simulate_gbm(S0, r, sigma, T, N)\n",
    "    payoffs[i] = asian_call_payoff(S_path, K, r, T)\n",
    "\n",
    "# Calculate the average payoff and hence the price of the option\n",
    "Asian_call_Monte_Carlo = np.mean(payoffs)\n",
    "\n",
    "print(f\"Asian_call_Monte_Carlo = {Asian_call_Monte_Carlo}, Simulation time = {n_simulations}\")\n",
    "print(f\"Asian_call_Analytical_result = {geometric_asian_call_theoretical}\")\n",
    "print(f\"Relative error = {abs(Asian_call_Monte_Carlo - geometric_asian_call_theoretical)/geometric_asian_call_theoretical}\")"
   ]
  },
  {
   "cell_type": "markdown",
   "metadata": {},
   "source": [
    "### Q2 : Explain how the strategy of using this as a control variate works."
   ]
  },
  {
   "cell_type": "markdown",
   "metadata": {},
   "source": [
    "Control Variates Method\n",
    "\n",
    "The **Control Variates Method** is a method used to reduce variance in Monte Carlo simulations. The core idea of this method is to use a control variable with a known expected value to reduce the variance of the simulation output. Here we use the value of an Asian option based on geometric averages as a control variable to reduce variance.\n",
    "\n",
    "Specific Implementation Steps:\n",
    "\n",
    "1. **Identify a Control Variate**: Select the geometric average Asian option as the control variate for the arithmetic average Asian option.\n",
    "\n",
    "2. **Compute the Expected Value of the Control Variate**:  Calculate the expected value of the geometric average Asian option.\n",
    "\n",
    "3. **Simulate Both Payoffs**: During the simulation, compute both the payoff of the option of interest (arithmetic average Asian option) and the payoff of the control variate (geometric average Asian option).\n",
    "\n",
    "4. **Calculate the Covariance and Variance**: Estimate the covariance between the payoff and the control variate, and the variance of the control variate, from the simulated data.\n",
    "\n",
    "5. **Adjust the Payoff**: Use the covariance and the known expected value of the control variate to adjust the payoff of the option of interest. The adjustment is typically made by constructing a linear combination of the payoff and the control variate. The coefficients of this linear combination are chosen to minimize the variance of the estimator.\n",
    "\n",
    "6. **Estimate the Option Price**: Estimate the Option Price: Calculate the price of the option of interest using the adjusted payoffs.\n"
   ]
  },
  {
   "cell_type": "markdown",
   "metadata": {},
   "source": [
    "### Q3：Apply the control variates technique"
   ]
  },
  {
   "cell_type": "code",
   "execution_count": null,
   "metadata": {},
   "outputs": [],
   "source": [
    "geometric_asian_call_theoretical = geometric_asian_call_price(S0, K, T, r, sigma, N)\n",
    "\n",
    "# Adding calculation of geometric mean\n",
    "def asian_call_payoff_modified(S_path, K, r, T):\n",
    "    arithmetic_mean = np.mean(S_path)\n",
    "    geometric_mean = np.exp(np.mean(np.log(S_path)))\n",
    "    payoff_arithmetic = np.maximum(arithmetic_mean - K, 0)\n",
    "    payoff_geometric = np.maximum(geometric_mean - K, 0)\n",
    "    discounted_payoff_arithmetic = np.exp(-r * T) * payoff_arithmetic\n",
    "    discounted_payoff_geometric = np.exp(-r * T) * payoff_geometric\n",
    "    return discounted_payoff_arithmetic, discounted_payoff_geometric\n",
    "\n",
    "def control_variates_simulation(S0, K, T, r, sigma, N):\n",
    "    payoffs_arithmetic = np.zeros(n_simulations)\n",
    "    payoffs_geometric = np.zeros(n_simulations)\n",
    "\n",
    "    # Simulation\n",
    "    for i in range(n_simulations):\n",
    "        S_path = simulate_gbm(S0, r, sigma, T, N)\n",
    "        payoff_arithmetic, payoff_geometric = asian_call_payoff_modified(S_path, K, r, T)\n",
    "        payoffs_arithmetic[i] = payoff_arithmetic\n",
    "        payoffs_geometric[i] = payoff_geometric\n",
    "\n",
    "    # Calculate the adjustment amount of the control variable\n",
    "    cov_matrix = np.cov(payoffs_arithmetic, payoffs_geometric)\n",
    "    cov_XY = cov_matrix[0, 1]\n",
    "    var_Y = cov_matrix[1, 1]\n",
    "    c = cov_XY / var_Y\n",
    "\n",
    "    # Adjusting the simulated value of the arithmetic mean Asian call option using control variables\n",
    "    adjusted_payoffs = payoffs_arithmetic - c * (payoffs_geometric - geometric_asian_call_theoretical)\n",
    "\n",
    "    adjusted_price_estimate = np.mean(adjusted_payoffs)\n",
    "\n",
    "    return np.mean(payoffs_arithmetic), adjusted_price_estimate\n",
    "Basic_estimate, adjusted_estimate =  control_variates_simulation(S0, K, T, r, sigma, N)\n",
    "print(\"Basic Arithmetic Mean Price Estimate:\", Basic_estimate)\n",
    "print(\"Adjusted Arithmetic Mean Price Estimate:\", adjusted_estimate)"
   ]
  },
  {
   "cell_type": "code",
   "execution_count": null,
   "metadata": {},
   "outputs": [],
   "source": [
    "# Run simulation 30 times\n",
    "results_arithmetic = []\n",
    "results_adjusted = []\n",
    "simulation_time = 30\n",
    "for _ in range(simulation_time):\n",
    "    mean_arithmetic, adjusted_estimate = control_variates_simulation(S0, K, T, r, sigma, N)\n",
    "    results_arithmetic.append(mean_arithmetic)\n",
    "    results_adjusted.append(adjusted_estimate)"
   ]
  },
  {
   "cell_type": "code",
   "execution_count": null,
   "metadata": {},
   "outputs": [],
   "source": [
    "# Box-plot\n",
    "data = {'Basic Monte Carlo Method': results_arithmetic, 'Control Variates': results_adjusted}\n",
    "data_long_format = pd.DataFrame(list(data.items()), columns=['Simulation method', 'Price Estimate']).explode('Price Estimate')\n",
    "data_long_format['Price Estimate'] = data_long_format['Price Estimate'].astype(float)\n",
    "\n",
    "plt.figure(figsize=(10, 6))\n",
    "sns.boxplot(x='Simulation method', y='Price Estimate', data=data_long_format)\n",
    "plt.title('Comparison of estimate result of two models', fontsize = 16)\n",
    "plt.xlabel('Simulation method', fontsize = 15)\n",
    "plt.ylabel('Price Estimate', fontsize = 15)\n",
    "plt.grid(True)\n",
    "plt.show()\n",
    "\n",
    "print(\"Result under 30 simulation round\")\n",
    "print(f\"For Basic Monte Carlo Method : mean = {np.mean(results_arithmetic)}, variance = {np.var(results_arithmetic)}\")\n",
    "print(f\"For Control Variates Method : mean = {np.mean(results_adjusted)}, variance = {np.var(results_adjusted)}\")"
   ]
  }
 ],
 "metadata": {
  "kernelspec": {
   "display_name": "base",
   "language": "python",
   "name": "python3"
  },
  "language_info": {
   "codemirror_mode": {
    "name": "ipython",
    "version": 3
   },
   "file_extension": ".py",
   "mimetype": "text/x-python",
   "name": "python",
   "nbconvert_exporter": "python",
   "pygments_lexer": "ipython3",
   "version": "3.9.13"
  }
 },
 "nbformat": 4,
 "nbformat_minor": 2
}
