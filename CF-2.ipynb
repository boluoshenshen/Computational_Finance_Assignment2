{
 "cells": [
  {
   "cell_type": "markdown",
   "metadata": {},
   "source": [
    "# Assignment 2: Monte Carlo (MC) Methods in Finance"
   ]
  },
  {
   "cell_type": "code",
   "execution_count": null,
   "metadata": {},
   "outputs": [],
   "source": [
    "import numpy as np\n",
    "from scipy.stats import norm"
   ]
  },
  {
   "cell_type": "markdown",
   "metadata": {},
   "source": [
    "## Part I Option Valuation"
   ]
  },
  {
   "cell_type": "markdown",
   "metadata": {},
   "source": [
    "## Part II Estimation of Sensitivities in MC"
   ]
  },
  {
   "cell_type": "markdown",
   "metadata": {},
   "source": [
    "### Q1: Use bump-and-revalue method to estimate delta"
   ]
  },
  {
   "cell_type": "markdown",
   "metadata": {},
   "source": [
    "## Part III Variance Reduction"
   ]
  },
  {
   "cell_type": "markdown",
   "metadata": {},
   "source": [
    "### Q1: Compare the Asian call option result between the analytical expression and Monte-Carlo simulations"
   ]
  },
  {
   "cell_type": "code",
   "execution_count": null,
   "metadata": {},
   "outputs": [],
   "source": [
    "from scipy.stats import norm\n",
    "\n",
    "S0 = 100       # Initial stock price\n",
    "K = 100        # Strike price\n",
    "T = 1          # Time to maturity in years\n",
    "r = 0.05       # Risk-free interest rate\n",
    "sigma = 0.2    # Volatility\n",
    "N = 252        # Number of steps/times we observe the stock price\n",
    "\n",
    "# Adjust volatility and interest rates based on the characteristics of Asian options\n",
    "sigma_hat = sigma * np.sqrt((2 * N + 1) / (6 * (N + 1)))\n",
    "r_hat = (r - 0.5 * sigma**2 + sigma_hat**2) / 2\n",
    "\n",
    "# Calculate d1 and d2\n",
    "d1 = (np.log(S0 / K) + (r_hat + 0.5 * sigma_hat**2) * T) / (sigma_hat * np.sqrt(T))\n",
    "d2 = d1 - sigma_hat * np.sqrt(T)\n",
    "\n",
    "# Calculate Asian call option prices based on the BS model\n",
    "A_call_Analytical_result = S0 * np.exp((r_hat - r) * T) * norm.cdf(d1) - K * np.exp(-r * T) * norm.cdf(d2)\n",
    "\n",
    "print(A_call_Analytical_result)\n"
   ]
  },
  {
   "cell_type": "code",
   "execution_count": null,
   "metadata": {},
   "outputs": [],
   "source": [
    "# Use Monte-Carlo simulation to compute Asian call option\n",
    "\n",
    "# Given parameters\n",
    "S0 = 100       # Initial stock price\n",
    "K = 100        # Strike price\n",
    "T = 1          # Time to maturity in years\n",
    "r = 0.05       # Risk-free interest rate\n",
    "sigma = 0.2    # Volatility\n",
    "n_simulations = 100000  # Number of Monte Carlo simulations\n",
    "n_steps = 252           # Number of steps/times we observe the stock price\n",
    "\n",
    "# Function to simulate one geometric Brownian motion path\n",
    "def simulate_gbm(S0, r, sigma, T, n_steps):\n",
    "    dt = T/n_steps  # Time step\n",
    "    # Simulate the increments of a standard Brownian motion\n",
    "    dW = np.random.normal(scale=np.sqrt(dt), size=n_steps)\n",
    "    # Calculate the log of stock prices using the GBM formula\n",
    "    log_S = np.log(S0) + np.cumsum((r - 0.5 * sigma**2) * dt + sigma * dW)\n",
    "    S = np.exp(log_S)  # Convert log prices back to normal prices\n",
    "    return S\n",
    "\n",
    "# Function to calculate the payoff of an Asian call option\n",
    "def asian_call_payoff(S_path, K, r, T):\n",
    "    geometric_mean = np.exp(np.mean(np.log(S_path)))  # Geometric mean of stock prices\n",
    "    payoff = np.maximum(geometric_mean - K, 0)        # Call option payoff\n",
    "    discounted_payoff = np.exp(-r * T) * payoff       # Discounted payoff\n",
    "    return discounted_payoff\n",
    "\n",
    "# Running the Monte Carlo simulation\n",
    "np.random.seed()  # Set seed for reproducibility\n",
    "payoffs = np.zeros(n_simulations)\n",
    "\n",
    "for i in range(n_simulations):\n",
    "    S_path = simulate_gbm(S0, r, sigma, T, n_steps)\n",
    "    payoffs[i] = asian_call_payoff(S_path, K, r, T)\n",
    "\n",
    "# Calculate the average payoff and hence the price of the option\n",
    "A_call_Monte_Carlo = np.mean(payoffs)\n",
    "\n",
    "print(f\"A_call_Monte_Carlo = {A_call_Monte_Carlo}\")\n",
    "print(f\"A_call_Analytical_result = {A_call_Analytical_result}\")"
   ]
  }
 ],
 "metadata": {
  "kernelspec": {
   "display_name": "base",
   "language": "python",
   "name": "python3"
  },
  "language_info": {
   "codemirror_mode": {
    "name": "ipython",
    "version": 3
   },
   "file_extension": ".py",
   "mimetype": "text/x-python",
   "name": "python",
   "nbconvert_exporter": "python",
   "pygments_lexer": "ipython3",
   "version": "3.9.13"
  }
 },
 "nbformat": 4,
 "nbformat_minor": 2
}
