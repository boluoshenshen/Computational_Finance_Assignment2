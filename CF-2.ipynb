{
 "cells": [
  {
   "cell_type": "markdown",
   "metadata": {},
   "source": [
    "# Assignment 2: Monte Carlo (MC) Methods in Finance"
   ]
  },
  {
   "cell_type": "code",
   "execution_count": null,
   "metadata": {},
   "outputs": [],
   "source": [
    "import numpy as np\n",
    "import matplotlib.pyplot as plt\n",
    "from scipy.stats import norm\n",
    "import seaborn as sns\n",
    "import pandas as pd\n"
   ]
  },
  {
   "cell_type": "markdown",
   "metadata": {},
   "source": [
    "## Part I Option Valuation"
   ]
  },
  {
   "cell_type": "markdown",
   "metadata": {},
   "source": [
    "### Q1: Monte Carlo for European Call？ Options"
   ]
  },
  {
   "cell_type": "markdown",
   "metadata": {},
   "source": [
    "#### Convergence Study"
   ]
  },
  {
   "cell_type": "code",
   "execution_count": null,
   "metadata": {},
   "outputs": [],
   "source": [
    "# Parameters\n",
    "S0 = 100       # initial stock price\n",
    "K = 99         # strike price\n",
    "T = 1.0        # time to maturity\n",
    "r = 0.06       # risk-free rate\n",
    "sigma = 0.20   # volatility\n",
    "M_trials = [100, 500, 1000, 5000, 10000,20000, 30000, 40000, 50000]  # different numbers of trials\n",
    "\n",
    "option_prices = []\n",
    "std_errors = []\n",
    "\n",
    "# Monte Carlo simulation to estimate European Option price\n",
    "def monte_carlo_simulation(S0, K, T, r, sigma, M):\n",
    "    dt = T / M  # time step\n",
    "    discount_factor = np.exp(-r * T)  # discount factor for present value\n",
    "    \n",
    "    # Generate M stock price paths\n",
    "    Z = np.random.standard_normal(M)\n",
    "    ST = S0 * np.exp((r - 0.5 * sigma**2) * T + sigma * np.sqrt(T) * Z) \n",
    "    payoffs = np.maximum(K - ST, 0)\n",
    "    option_price = discount_factor * np.mean(payoffs)  # average discounted payoff\n",
    "    std_error = discount_factor * np.std(payoffs) / np.sqrt(M)\n",
    "    \n",
    "    return option_price, std_error\n",
    "\n",
    "for M in M_trials:\n",
    "    optionPrices=[]\n",
    "    stdErrors=[]\n",
    "    for i in range(200):\n",
    "        price, error = monte_carlo_simulation(S0, K, T, r, sigma, M)\n",
    "        optionPrices.append(price)\n",
    "        stdErrors.append(error)\n",
    "    option_prices.append(np.mean(optionPrices))\n",
    "    std_errors.append(np.mean(stdErrors))\n",
    "\n",
    "fig, (ax1, ax2) = plt.subplots(1, 2, figsize=(10, 5))\n",
    "\n",
    "# Option Price Convergence\n",
    "ax1.plot(M_trials, option_prices, marker='o')\n",
    "ax1.set_xlabel('Number of Trials', fontsize=14)\n",
    "ax1.set_ylabel('Option Price', fontsize=14)\n",
    "ax1.tick_params(labelsize=12)\n",
    "ax1.grid(True)\n",
    "\n",
    "# Standard Error Convergence\n",
    "ax2.plot(M_trials, std_errors, marker='o', color='red')\n",
    "ax2.set_xlabel('Number of Trials', fontsize=14)\n",
    "ax2.set_ylabel('Standard Error', fontsize=14)\n",
    "ax2.tick_params(labelsize=12)\n",
    "ax2.grid(True)\n",
    "\n",
    "plt.tight_layout(rect=[0, 0.03, 1, 0.95])\n",
    "plt.show()\n",
    "print(option_prices)"
   ]
  },
  {
   "cell_type": "markdown",
   "metadata": {},
   "source": [
    "#### Comparison with Assignment 1 Binomial Model\n",
    "- Option Price Estimates: Assignment 1 provided a binomial tree model price of approximately 11.55 for a European Call option with specific parameters (1-year maturity, strike price of 99, risk-free rate of 6%, current stock price of 100, and volatility of 20%)​​. The Monte Carlo simulation generated option prices at different trial numbers as printed. When M = 50000, the option price calculated is about 11.54.\n",
    "- Convergence Analysis: The binomial tree model showed convergence of option prices as the number of steps increased​. In Monte Carlo simulation, the standard error converges as the number of trials increases, showing increasing accuracy of the Monte Carlo estimate.\n",
    "- Impact of Volatility: "
   ]
  },
  {
   "cell_type": "markdown",
   "metadata": {},
   "source": [
    "#### Varying Volality and Strike Price"
   ]
  },
  {
   "cell_type": "code",
   "execution_count": null,
   "metadata": {},
   "outputs": [],
   "source": [
    "S0 = 100\n",
    "T = 1.0 \n",
    "r = 0.06\n",
    "M = 10000    \n",
    "\n",
    "strike_prices = [80, 90, 100, 110, 120]\n",
    "volatilities = [0.1,0.2,0.3, 0.4, 0.5, 0.6, 0.7, 0.8, 0.9]\n",
    "\n",
    "# Store the results\n",
    "results = []\n",
    "\n",
    "# Perform simulations for varying strike prices and volatilities\n",
    "for K in strike_prices:\n",
    "    for sigma in volatilities:\n",
    "        price, error = monte_carlo_simulation(S0, K, T, r, sigma, M)\n",
    "        results.append((K, sigma, price, error))\n",
    "\n",
    "df = pd.DataFrame(results, columns=['Strike Price', 'Volatility', 'Option Price', 'Standard Error'])\n",
    "\n",
    "pivot_price = df.pivot(index=\"Strike Price\", columns=\"Volatility\", values=\"Option Price\")\n",
    "pivot_error = df.pivot(index=\"Strike Price\", columns=\"Volatility\", values=\"Standard Error\")\n",
    "\n",
    "# Plotting heatmaps for Option Price and Standard Error\n",
    "plt.figure(figsize=(14, 6))\n",
    "\n",
    "plt.subplot(1, 2, 1)\n",
    "sns.set(font_scale=1.1)\n",
    "sns.heatmap(pivot_price, annot=True, fmt=\".2f\", linewidths=0.5)\n",
    "plt.xlabel(\"Volatility\", fontsize=14)\n",
    "plt.ylabel(\"Strike Price\", fontsize=14)\n",
    "plt.title(\"Option Price (European Call)\", fontsize=16)\n",
    "\n",
    "plt.subplot(1, 2, 2)\n",
    "sns.set(font_scale=1.1)\n",
    "sns.heatmap(pivot_error, annot=True, fmt=\".3f\", linewidths=0.5)\n",
    "plt.title(\"Standard Error\", fontsize=16)\n",
    "plt.xlabel(\"Volatility\", fontsize=14)\n",
    "plt.ylabel(\"Strike Price\", fontsize=14)\n",
    "\n",
    "plt.tight_layout()\n",
    "plt.show()\n",
    "\n"
   ]
  },
  {
   "cell_type": "markdown",
   "metadata": {},
   "source": [
    "## Part II Estimation of Sensitivities in MC"
   ]
  },
  {
   "cell_type": "markdown",
   "metadata": {},
   "source": [
    "### Q1: Use bump-and-revalue method to estimate delta"
   ]
  },
  {
   "cell_type": "markdown",
   "metadata": {},
   "source": [
    "## Part III Variance Reduction"
   ]
  },
  {
   "cell_type": "markdown",
   "metadata": {},
   "source": [
    "### Q1: Compare the Asian call option result between the analytical expression and Monte-Carlo simulations"
   ]
  },
  {
   "cell_type": "code",
   "execution_count": null,
   "metadata": {},
   "outputs": [],
   "source": [
    "S0 = 100 \n",
    "K = 100   \n",
    "T = 1      \n",
    "r = 0.05     \n",
    "sigma = 0.2   \n",
    "N = 252        \n",
    "\n",
    "def geometric_asian_call_price(S0, K, T, r, sigma, N):\n",
    "    # Adjust volatility and interest rates based on the characteristics of Asian options\n",
    "    sigma_hat = sigma * np.sqrt((2 * N + 1) / (6 * (N + 1)))\n",
    "    r_hat = (r - 0.5 * sigma**2 + sigma_hat**2) / 2\n",
    "\n",
    "    # Calculate d1 and d2\n",
    "    d1 = (np.log(S0 / K) + (r_hat + 0.5 * sigma_hat**2) * T) / (sigma_hat * np.sqrt(T))\n",
    "    d2 = d1 - sigma_hat * np.sqrt(T)\n",
    "\n",
    "    # Calculate Asian call option prices based on the BS model\n",
    "    geometric_asian_call_theoretical = S0 * np.exp((r_hat - r) * T) * norm.cdf(d1) - K * np.exp(-r * T) * norm.cdf(d2)\n",
    "    return geometric_asian_call_theoretical\n",
    "\n",
    "geometric_asian_call_theoretical = geometric_asian_call_price(S0, K, T, r, sigma, N)\n",
    "print(geometric_asian_call_theoretical)\n"
   ]
  },
  {
   "cell_type": "code",
   "execution_count": null,
   "metadata": {},
   "outputs": [],
   "source": [
    "# Use Monte-Carlo simulation to compute Asian call option\n",
    "\n",
    "S0 = 100       \n",
    "K = 100        \n",
    "T = 1          \n",
    "r = 0.05       \n",
    "sigma = 0.2    \n",
    "N = 2520       \n",
    "n_simulations = 100000  # Number of Monte Carlo simulations\n",
    "\n",
    "# Simulate Brownian motion path\n",
    "def simulate_gbm(S0, r, sigma, T, n_steps):\n",
    "    dt = T/n_steps  \n",
    "    dW = np.random.normal(scale=np.sqrt(dt), size=n_steps)\n",
    "    log_S = np.log(S0) + np.cumsum((r - 0.5 * sigma**2) * dt + sigma * dW)\n",
    "    S = np.exp(log_S)  \n",
    "    return S\n",
    "\n",
    "def asian_call_payoff(S_path, K, r, T):\n",
    "    geometric_mean = np.exp(np.mean(np.log(S_path)))  \n",
    "    payoff = np.maximum(geometric_mean - K, 0)        \n",
    "    discounted_payoff = np.exp(-r * T) * payoff     \n",
    "    return discounted_payoff\n",
    "\n"
   ]
  },
  {
   "cell_type": "code",
   "execution_count": null,
   "metadata": {},
   "outputs": [],
   "source": [
    "np.random.seed()  \n",
    "payoffs = np.zeros(n_simulations)\n",
    "\n",
    "for i in range(n_simulations):\n",
    "    S_path = simulate_gbm(S0, r, sigma, T, N)\n",
    "    payoffs[i] = asian_call_payoff(S_path, K, r, T)\n",
    "\n",
    "# Calculate the average payoff and hence the price of the option\n",
    "Asian_call_Monte_Carlo = np.mean(payoffs)\n",
    "\n",
    "print(f\"Asian_call_Monte_Carlo = {Asian_call_Monte_Carlo}, Simulation time = {n_simulations}\")\n",
    "print(f\"Asian_call_Analytical_result = {geometric_asian_call_theoretical}\")\n",
    "print(f\"Relative error = {abs(Asian_call_Monte_Carlo - geometric_asian_call_theoretical)/geometric_asian_call_theoretical}\")"
   ]
  },
  {
   "cell_type": "markdown",
   "metadata": {},
   "source": [
    "### Q2 : Explain how the strategy of using this as a control variate works."
   ]
  },
  {
   "cell_type": "markdown",
   "metadata": {},
   "source": [
    "Control Variates Method\n",
    "\n",
    "The **Control Variates Method** is a method used to reduce variance in Monte Carlo simulations. The core idea of this method is to use a control variable with a known expected value to reduce the variance of the simulation output. Here we use the value of an Asian option based on geometric averages as a control variable to reduce variance.\n",
    "\n",
    "Specific Implementation Steps:\n",
    "\n",
    "1. **Identify a Control Variate**: Select the geometric average Asian option as the control variate for the arithmetic average Asian option.\n",
    "\n",
    "2. **Compute the Expected Value of the Control Variate**:  Calculate the expected value of the geometric average Asian option.\n",
    "\n",
    "3. **Simulate Both Payoffs**: During the simulation, compute both the payoff of the option of interest (arithmetic average Asian option) and the payoff of the control variate (geometric average Asian option).\n",
    "\n",
    "4. **Calculate the Covariance and Variance**: Estimate the covariance between the payoff and the control variate, and the variance of the control variate, from the simulated data.\n",
    "\n",
    "5. **Adjust the Payoff**: Use the covariance and the known expected value of the control variate to adjust the payoff of the option of interest. The adjustment is typically made by constructing a linear combination of the payoff and the control variate. The coefficients of this linear combination are chosen to minimize the variance of the estimator.\n",
    "\n",
    "6. **Estimate the Option Price**: Estimate the Option Price: Calculate the price of the option of interest using the adjusted payoffs.\n"
   ]
  },
  {
   "cell_type": "markdown",
   "metadata": {},
   "source": [
    "### Q3：Apply the control variates technique"
   ]
  },
  {
   "cell_type": "code",
   "execution_count": null,
   "metadata": {},
   "outputs": [],
   "source": [
    "geometric_asian_call_theoretical = geometric_asian_call_price(S0, K, T, r, sigma, N)\n",
    "\n",
    "# Adding calculation of geometric mean\n",
    "def asian_call_payoff_modified(S_path, K, r, T):\n",
    "    arithmetic_mean = np.mean(S_path)\n",
    "    geometric_mean = np.exp(np.mean(np.log(S_path)))\n",
    "    payoff_arithmetic = np.maximum(arithmetic_mean - K, 0)\n",
    "    payoff_geometric = np.maximum(geometric_mean - K, 0)\n",
    "    discounted_payoff_arithmetic = np.exp(-r * T) * payoff_arithmetic\n",
    "    discounted_payoff_geometric = np.exp(-r * T) * payoff_geometric\n",
    "    return discounted_payoff_arithmetic, discounted_payoff_geometric\n",
    "\n",
    "def control_variates_simulation(S0, K, T, r, sigma, N):\n",
    "    payoffs_arithmetic = np.zeros(n_simulations)\n",
    "    payoffs_geometric = np.zeros(n_simulations)\n",
    "\n",
    "    # Simulation\n",
    "    for i in range(n_simulations):\n",
    "        S_path = simulate_gbm(S0, r, sigma, T, N)\n",
    "        payoff_arithmetic, payoff_geometric = asian_call_payoff_modified(S_path, K, r, T)\n",
    "        payoffs_arithmetic[i] = payoff_arithmetic\n",
    "        payoffs_geometric[i] = payoff_geometric\n",
    "\n",
    "    # Calculate the adjustment amount of the control variable\n",
    "    cov_matrix = np.cov(payoffs_arithmetic, payoffs_geometric)\n",
    "    cov_XY = cov_matrix[0, 1]\n",
    "    var_Y = cov_matrix[1, 1]\n",
    "    c = cov_XY / var_Y\n",
    "\n",
    "    # Adjusting the simulated value of the arithmetic mean Asian call option using control variables\n",
    "    adjusted_payoffs = payoffs_arithmetic - c * (payoffs_geometric - geometric_asian_call_theoretical)\n",
    "\n",
    "    adjusted_price_estimate = np.mean(adjusted_payoffs)\n",
    "\n",
    "    return np.mean(payoffs_arithmetic), adjusted_price_estimate\n",
    "Basic_estimate, adjusted_estimate =  control_variates_simulation(S0, K, T, r, sigma, N)\n",
    "print(\"Basic Arithmetic Mean Price Estimate:\", Basic_estimate)\n",
    "print(\"Adjusted Arithmetic Mean Price Estimate:\", adjusted_estimate)"
   ]
  },
  {
   "cell_type": "code",
   "execution_count": null,
   "metadata": {},
   "outputs": [],
   "source": [
    "# Run simulation 30 times\n",
    "results_arithmetic = []\n",
    "results_adjusted = []\n",
    "simulation_time = 30\n",
    "for _ in range(simulation_time):\n",
    "    mean_arithmetic, adjusted_estimate = control_variates_simulation(S0, K, T, r, sigma, N)\n",
    "    results_arithmetic.append(mean_arithmetic)\n",
    "    results_adjusted.append(adjusted_estimate)"
   ]
  },
  {
   "cell_type": "code",
   "execution_count": null,
   "metadata": {},
   "outputs": [],
   "source": [
    "# Box-plot\n",
    "data = {'Basic Monte Carlo Method': results_arithmetic, 'Control Variates': results_adjusted}\n",
    "data_long_format = pd.DataFrame(list(data.items()), columns=['Simulation method', 'Price Estimate']).explode('Price Estimate')\n",
    "data_long_format['Price Estimate'] = data_long_format['Price Estimate'].astype(float)\n",
    "\n",
    "plt.figure(figsize=(10, 6))\n",
    "sns.boxplot(x='Simulation method', y='Price Estimate', data=data_long_format)\n",
    "plt.title('Comparison of estimate result of two models', fontsize = 16)\n",
    "plt.xlabel('Simulation method', fontsize = 15)\n",
    "plt.ylabel('Price Estimate', fontsize = 15)\n",
    "plt.grid(True)\n",
    "plt.show()\n",
    "\n",
    "print(\"Result under 30 simulation round\")\n",
    "print(f\"For Basic Monte Carlo Method : mean = {np.mean(results_arithmetic)}, variance = {np.var(results_arithmetic)}\")\n",
    "print(f\"For Control Variates Method : mean = {np.mean(results_adjusted)}, variance = {np.var(results_adjusted)}\")"
   ]
  }
 ],
 "metadata": {
  "kernelspec": {
   "display_name": "base",
   "language": "python",
   "name": "python3"
  },
  "language_info": {
   "codemirror_mode": {
    "name": "ipython",
    "version": 3
   },
   "file_extension": ".py",
   "mimetype": "text/x-python",
   "name": "python",
   "nbconvert_exporter": "python",
   "pygments_lexer": "ipython3",
   "version": "3.11.4"
  }
 },
 "nbformat": 4,
 "nbformat_minor": 2
}
